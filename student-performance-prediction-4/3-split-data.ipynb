{
 "cells": [
  {
   "cell_type": "code",
   "execution_count": 1,
   "id": "86e4da74",
   "metadata": {},
   "outputs": [],
   "source": [
    "import pandas as pd\n",
    "from sklearn.model_selection import train_test_split"
   ]
  },
  {
   "cell_type": "code",
   "execution_count": 4,
   "id": "b5429054",
   "metadata": {},
   "outputs": [
    {
     "name": "stdout",
     "output_type": "stream",
     "text": [
      "\n",
      "=== Ukuran Dataset ===\n",
      "Training set: 64000 baris, 39 fitur\n",
      "Testing set: 16000 baris, 39 fitur\n"
     ]
    }
   ],
   "source": [
    "# Memuat Dataset yang Telah Diproses\n",
    "data = pd.read_csv('dataset/processed_student_data.csv')\n",
    "\n",
    "# Pembagian Dataset\n",
    "# Pisahkan fitur (X) dan target (y)\n",
    "X = data.drop(columns=['exam_score'])\n",
    "y = data['exam_score']\n",
    "\n",
    "# Bagi dataset menjadi training (80%) dan testing (20%)\n",
    "X_train, X_test, y_train, y_test = train_test_split(X, y, test_size=0.2, random_state=42)\n",
    "\n",
    "print(\"\\n=== Ukuran Dataset ===\")\n",
    "print(f\"Training set: {X_train.shape[0]} baris, {X_train.shape[1]} fitur\")\n",
    "print(f\"Testing set: {X_test.shape[0]} baris, {X_test.shape[1]} fitur\")"
   ]
  },
  {
   "cell_type": "code",
   "execution_count": 5,
   "id": "4a53c43f",
   "metadata": {},
   "outputs": [],
   "source": [
    "X_train.to_csv(\"dataset/X_train.csv\", index=False)\n",
    "X_test.to_csv(\"dataset/X_test.csv\", index=False)\n",
    "y_train.to_csv(\"dataset/y_train.csv\", index=False)\n",
    "y_test.to_csv(\"dataset/y_test.csv\", index=False)"
   ]
  }
 ],
 "metadata": {
  "kernelspec": {
   "display_name": "Python 3",
   "language": "python",
   "name": "python3"
  },
  "language_info": {
   "codemirror_mode": {
    "name": "ipython",
    "version": 3
   },
   "file_extension": ".py",
   "mimetype": "text/x-python",
   "name": "python",
   "nbconvert_exporter": "python",
   "pygments_lexer": "ipython3",
   "version": "3.11.5"
  }
 },
 "nbformat": 4,
 "nbformat_minor": 5
}
