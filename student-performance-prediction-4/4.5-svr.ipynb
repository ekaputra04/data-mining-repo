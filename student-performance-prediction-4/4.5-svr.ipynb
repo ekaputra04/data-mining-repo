{
 "cells": [
  {
   "cell_type": "markdown",
   "id": "8f4a8e49",
   "metadata": {},
   "source": [
    "# SVR"
   ]
  },
  {
   "cell_type": "code",
   "execution_count": 1,
   "id": "faa55ff4",
   "metadata": {},
   "outputs": [],
   "source": [
    "import pandas as pd\n",
    "import numpy as np\n",
    "from sklearn.svm import SVR\n",
    "from sklearn.model_selection import RandomizedSearchCV, cross_val_score\n",
    "from sklearn.metrics import mean_absolute_error, mean_squared_error, r2_score\n",
    "import matplotlib.pyplot as plt\n",
    "import seaborn as sns\n",
    "import joblib"
   ]
  },
  {
   "cell_type": "markdown",
   "id": "13faf865",
   "metadata": {},
   "source": [
    "## Memuat Data\n"
   ]
  },
  {
   "cell_type": "code",
   "execution_count": 2,
   "id": "2f30b2d1",
   "metadata": {},
   "outputs": [],
   "source": [
    "X_train = pd.read_csv('dataset/X_train.csv')\n",
    "X_test = pd.read_csv('dataset/X_test.csv')\n",
    "y_train = pd.read_csv('dataset/y_train.csv').values.ravel()\n",
    "y_test = pd.read_csv('dataset/y_test.csv').values.ravel()"
   ]
  },
  {
   "cell_type": "markdown",
   "id": "0755547e",
   "metadata": {},
   "source": [
    "## Pelatihan Model dengan Tuning\n"
   ]
  },
  {
   "cell_type": "code",
   "execution_count": null,
   "id": "b8f417c4",
   "metadata": {},
   "outputs": [],
   "source": [
    "svr_params = {\n",
    "    'kernel': ['linear', 'rbf'],\n",
    "    'C': [0.1, 1.0],\n",
    "    'epsilon': [0.1, 0.2]\n",
    "}\n",
    "svr_grid = RandomizedSearchCV(\n",
    "    SVR(),\n",
    "    svr_params,\n",
    "    n_iter=8,\n",
    "    cv=3,\n",
    "    scoring='r2'\n",
    ")\n",
    "svr_grid.fit(X_train, y_train)\n",
    "svr_best = svr_grid.best_estimator_\n",
    "\n",
    "print(\"\\n=== SVR Best Parameters ===\")\n",
    "print(svr_grid.best_params_)\n",
    "\n",
    "# tidak jadi, karena waktu training sangat lama"
   ]
  },
  {
   "cell_type": "markdown",
   "id": "05cb9fa6",
   "metadata": {},
   "source": [
    "## Evaluasi Model\n"
   ]
  },
  {
   "cell_type": "code",
   "execution_count": null,
   "id": "54ae377e",
   "metadata": {},
   "outputs": [],
   "source": [
    "y_train_pred = svr_best.predict(X_train)\n",
    "y_test_pred = svr_best.predict(X_test)\n",
    "\n",
    "metrics = {\n",
    "    'Model': 'SVR',\n",
    "    'Train MAE': mean_absolute_error(y_train, y_train_pred),\n",
    "    'Test MAE': mean_absolute_error(y_test, y_test_pred),\n",
    "    'Train RMSE': np.sqrt(mean_squared_error(y_train, y_train_pred)),\n",
    "    'Test RMSE': np.sqrt(mean_squared_error(y_test, y_test_pred)),\n",
    "    'Train R2': r2_score(y_train, y_train_pred),\n",
    "    'Test R2': r2_score(y_test, y_test_pred)\n",
    "}\n",
    "\n",
    "cv_scores = cross_val_score(svr_best, X_train, y_train, cv=5, scoring='r2')\n",
    "metrics['CV R2 Mean'] = cv_scores.mean()\n",
    "metrics['CV R2 Std'] = cv_scores.std()"
   ]
  },
  {
   "cell_type": "markdown",
   "id": "7abdafa9",
   "metadata": {},
   "source": [
    "## Ringkasan Hasil"
   ]
  },
  {
   "cell_type": "code",
   "execution_count": null,
   "id": "b93126b5",
   "metadata": {},
   "outputs": [],
   "source": [
    "results_df = pd.DataFrame([metrics])\n",
    "print(\"\\n=== Hasil Evaluasi SVR ===\")\n",
    "print(results_df)"
   ]
  },
  {
   "cell_type": "markdown",
   "id": "3afbe886",
   "metadata": {},
   "source": [
    "## Visualisasi Prediksi vs Aktual\n"
   ]
  },
  {
   "cell_type": "code",
   "execution_count": null,
   "id": "c7141fcd",
   "metadata": {},
   "outputs": [],
   "source": [
    "plt.figure(figsize=(10, 6))\n",
    "plt.scatter(y_test, y_test_pred, alpha=0.5)\n",
    "plt.plot([y_test.min(), y_test.max()], [y_test.min(), y_test.max()], 'r--', lw=2)\n",
    "plt.xlabel('Actual Exam Score')\n",
    "plt.ylabel('Predicted Exam Score')\n",
    "plt.title('SVR: Prediksi vs Aktual')\n",
    "plt.tight_layout()\n",
    "plt.show()"
   ]
  },
  {
   "cell_type": "markdown",
   "id": "c7dd4e34",
   "metadata": {},
   "source": [
    "## Visualisasi Metrik\n"
   ]
  },
  {
   "cell_type": "code",
   "execution_count": null,
   "id": "b9d83efc",
   "metadata": {},
   "outputs": [],
   "source": [
    "plt.figure(figsize=(8, 5))\n",
    "sns.barplot(x=['Train R2', 'Test R2', 'CV R2 Mean'], y=[metrics['Train R2'], metrics['Test R2'], metrics['CV R2 Mean']])\n",
    "plt.title('SVR: Perbandingan R2 Score')\n",
    "plt.ylabel('R2 Score')\n",
    "plt.tight_layout()\n",
    "plt.show()"
   ]
  },
  {
   "cell_type": "markdown",
   "id": "52b352a3",
   "metadata": {},
   "source": [
    "## Menyimpan Model dan Hasil\n"
   ]
  },
  {
   "cell_type": "code",
   "execution_count": null,
   "id": "810ffab3",
   "metadata": {},
   "outputs": [],
   "source": [
    "joblib.dump(svr_best, 'svr_model.pkl')\n",
    "results_df.to_csv('svr_results.csv', index=False)\n",
    "print(\"\\nModel disimpan sebagai 'svr_model.pkl'\")\n",
    "print(\"Hasil evaluasi disimpan sebagai 'svr_results.csv'\")"
   ]
  }
 ],
 "metadata": {
  "kernelspec": {
   "display_name": "Python 3",
   "language": "python",
   "name": "python3"
  },
  "language_info": {
   "codemirror_mode": {
    "name": "ipython",
    "version": 3
   },
   "file_extension": ".py",
   "mimetype": "text/x-python",
   "name": "python",
   "nbconvert_exporter": "python",
   "pygments_lexer": "ipython3",
   "version": "3.11.5"
  }
 },
 "nbformat": 4,
 "nbformat_minor": 5
}
